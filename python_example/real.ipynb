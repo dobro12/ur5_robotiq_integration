{
 "cells": [
  {
   "cell_type": "markdown",
   "metadata": {},
   "source": [
    "## install moveit_commander\n",
    "\n",
    "```\n",
    "sudo apt-get install ros-\"DISTRO\"-moveit-commander\n",
    "pip install pyassimp\n",
    "```\n",
    "\n",
    "## reference\n",
    "\n",
    "https://ros-planning.github.io/moveit_tutorials/doc/move_group_python_interface/move_group_python_interface_tutorial.html\n",
    "\n",
    "## Before Running Moveit \n",
    "\n",
    "```\n",
    "# run gazebo\n",
    "roslaunch ur_gazebo ur5.launch\n",
    "# run moveit\n",
    "roslaunch ur5_moveit_config ur5_moveit_planning_execution.launch sim:=true limited:=true\n",
    "# run rviz\n",
    "roslaunch ur5_moveit_config moveit_rviz.launch config:=true\n",
    "```\n"
   ]
  },
  {
   "cell_type": "code",
   "execution_count": 1,
   "metadata": {},
   "outputs": [],
   "source": [
    "import os\n",
    "ROS_DISTRO = os.environ['ROS_DISTRO']"
   ]
  },
  {
   "cell_type": "code",
   "execution_count": 2,
   "metadata": {},
   "outputs": [],
   "source": [
    "from __future__ import print_function\n",
    "from six.moves import input\n",
    "\n",
    "import sys\n",
    "ros_python_path = '/opt/ros/{}/lib/python2.7/dist-packages'.format(ROS_DISTRO)\n",
    "if not ros_python_path in sys.path:\n",
    "    sys.path.append(ros_python_path)\n",
    "\n",
    "import rospy\n",
    "import copy"
   ]
  },
  {
   "cell_type": "code",
   "execution_count": 3,
   "metadata": {},
   "outputs": [],
   "source": [
    "from moveit_commander.conversions import pose_to_list\n",
    "from std_msgs.msg import String\n",
    "import geometry_msgs.msg\n",
    "import moveit_commander\n",
    "import moveit_msgs.msg\n",
    "from math import pi"
   ]
  },
  {
   "cell_type": "markdown",
   "metadata": {},
   "source": [
    "## initialize moveit_commander"
   ]
  },
  {
   "cell_type": "code",
   "execution_count": 4,
   "metadata": {},
   "outputs": [],
   "source": [
    "moveit_commander.roscpp_initialize(sys.argv)\n",
    "rospy.init_node('move_group_python_interface_tutorial', anonymous=True)"
   ]
  },
  {
   "cell_type": "code",
   "execution_count": 5,
   "metadata": {},
   "outputs": [],
   "source": [
    "# Provides information such as the robot’s kinematic model and the robot’s current joint states\n",
    "robot = moveit_commander.RobotCommander()"
   ]
  },
  {
   "cell_type": "code",
   "execution_count": 6,
   "metadata": {},
   "outputs": [
    {
     "name": "stdout",
     "output_type": "stream",
     "text": [
      "['endeffector', 'manipulator']\n",
      "joint_state: \n",
      "  header: \n",
      "    seq: 0\n",
      "    stamp: \n",
      "      secs: 0\n",
      "      nsecs:         0\n",
      "    frame_id: \"/world\"\n",
      "  name: \n",
      "    - shoulder_pan_joint\n",
      "    - shoulder_lift_joint\n",
      "    - elbow_joint\n",
      "    - wrist_1_joint\n",
      "    - wrist_2_joint\n",
      "    - wrist_3_joint\n",
      "  position: [-1.9895780722247522, -1.8435033003436487, 1.3903160095214844, -1.1485446135150355, -1.5430963675128382, -1.1678159872638147]\n",
      "  velocity: []\n",
      "  effort: []\n",
      "multi_dof_joint_state: \n",
      "  header: \n",
      "    seq: 0\n",
      "    stamp: \n",
      "      secs: 0\n",
      "      nsecs:         0\n",
      "    frame_id: \"/world\"\n",
      "  joint_names: []\n",
      "  transforms: []\n",
      "  twist: []\n",
      "  wrench: []\n",
      "attached_collision_objects: []\n",
      "is_diff: False\n",
      "['ASSUMED_FIXED_ROOT_JOINT', 'world_joint', 'base_link-base_fixed_joint', 'shoulder_pan_joint', 'shoulder_lift_joint', 'elbow_joint', 'wrist_1_joint', 'wrist_2_joint', 'wrist_3_joint', 'ee_fixed_joint', 'wrist_3_passive_joint']\n"
     ]
    }
   ],
   "source": [
    "#'''\n",
    "print(robot.get_group_names())\n",
    "print(robot.get_current_state())\n",
    "print(robot.get_joint_names())\n",
    "#'''"
   ]
  },
  {
   "cell_type": "code",
   "execution_count": 7,
   "metadata": {},
   "outputs": [],
   "source": [
    "# provides a remote interface for getting, setting, and updating the robot’s internal understanding of the surrounding world\n",
    "# 플래닝할때, 주변 장애물을 반영할 수 있게, 아래의 object를 통해 환경에 장애물을 추가할 수 있다.\n",
    "scene = moveit_commander.PlanningSceneInterface()"
   ]
  },
  {
   "cell_type": "code",
   "execution_count": 8,
   "metadata": {},
   "outputs": [],
   "source": [
    "# plan 한 trajectory를 rviz화면에 시뮬레이션해줌.\n",
    "# \"roslaunch ur5_moveit_config moveit_rviz.launch config:=true\" 을 통해 미리 rviz를 띄어놔야 함.\n",
    "display_trajectory_publisher = rospy.Publisher('/move_group/display_planned_path',\n",
    "                                               moveit_msgs.msg.DisplayTrajectory,\n",
    "                                               queue_size=20)"
   ]
  },
  {
   "cell_type": "code",
   "execution_count": 9,
   "metadata": {},
   "outputs": [],
   "source": [
    "# move_group 객체를 통해 각 joint(move_element)의 desired states를 지정할 수 있고, moveit은 이 값을 바탕으로 planning을 해줌.\n",
    "group_name = \"manipulator\"\n",
    "move_group = moveit_commander.MoveGroupCommander(group_name)"
   ]
  },
  {
   "cell_type": "code",
   "execution_count": 10,
   "metadata": {},
   "outputs": [
    {
     "name": "stdout",
     "output_type": "stream",
     "text": [
      "============ Planning frame: /world\n",
      "============ End effector link: ee_link\n",
      "============ Available Planning Groups: ['endeffector', 'manipulator']\n",
      "============ Printing robot state\n",
      "joint_state: \n",
      "  header: \n",
      "    seq: 0\n",
      "    stamp: \n",
      "      secs: 0\n",
      "      nsecs:         0\n",
      "    frame_id: \"/world\"\n",
      "  name: \n",
      "    - shoulder_pan_joint\n",
      "    - shoulder_lift_joint\n",
      "    - elbow_joint\n",
      "    - wrist_1_joint\n",
      "    - wrist_2_joint\n",
      "    - wrist_3_joint\n",
      "  position: [-1.9895661512957972, -1.8434913794146937, 1.390303611755371, -1.1485684553729456, -1.5431202093707483, -1.1678159872638147]\n",
      "  velocity: []\n",
      "  effort: []\n",
      "multi_dof_joint_state: \n",
      "  header: \n",
      "    seq: 0\n",
      "    stamp: \n",
      "      secs: 0\n",
      "      nsecs:         0\n",
      "    frame_id: \"/world\"\n",
      "  joint_names: []\n",
      "  transforms: []\n",
      "  twist: []\n",
      "  wrench: []\n",
      "attached_collision_objects: []\n",
      "is_diff: False\n",
      "\n"
     ]
    }
   ],
   "source": [
    "# We can get the name of the reference frame for this robot:\n",
    "planning_frame = move_group.get_planning_frame()\n",
    "print(\"============ Planning frame: %s\" % planning_frame)\n",
    "\n",
    "# We can also print the name of the end-effector link for this group:\n",
    "eef_link = move_group.get_end_effector_link()\n",
    "print(\"============ End effector link: %s\" % eef_link)\n",
    "\n",
    "# We can get a list of all the groups in the robot:\n",
    "group_names = robot.get_group_names()\n",
    "print(\"============ Available Planning Groups:\", robot.get_group_names())\n",
    "\n",
    "# Sometimes for debugging it is useful to print the entire state of the\n",
    "# robot:\n",
    "print(\"============ Printing robot state\")\n",
    "print(robot.get_current_state())\n",
    "print(\"\")"
   ]
  },
  {
   "cell_type": "code",
   "execution_count": 12,
   "metadata": {},
   "outputs": [],
   "source": [
    "joint_goal = move_group.get_current_joint_values()\n",
    "joint_goal[0] += 0\n",
    "joint_goal[1] -= pi/12\n",
    "joint_goal[2] += 0\n",
    "joint_goal[3] += 0\n",
    "joint_goal[4] += 0\n",
    "joint_goal[5] += 0\n",
    "\n",
    "# The go command can be called with joint values, poses, or without any\n",
    "# parameters if you have already set the pose or joint target for the group\n",
    "move_group.go(joint_goal, wait=True)\n",
    "\n",
    "# Calling ``stop()`` ensures that there is no residual movement\n",
    "move_group.stop()"
   ]
  },
  {
   "cell_type": "code",
   "execution_count": 13,
   "metadata": {
    "scrolled": true
   },
   "outputs": [
    {
     "name": "stdout",
     "output_type": "stream",
     "text": [
      "[-1.9897940794574183, -1.8435395399676722, 1.3904118537902832, -1.148400608693258, -1.5430963675128382, -1.1678994337665003]\n"
     ]
    }
   ],
   "source": [
    "joint_goal = move_group.get_current_joint_values()\n",
    "print(joint_goal)"
   ]
  },
  {
   "cell_type": "code",
   "execution_count": 18,
   "metadata": {},
   "outputs": [],
   "source": [
    "scale = 0.2\n",
    "\n",
    "waypoints = []\n",
    "\n",
    "wpose = move_group.get_current_pose().pose\n",
    "wpose.position.z -= scale * 0.1  # First move up (z)\n",
    "wpose.position.y += scale * 0.2  # and sideways (y)\n",
    "waypoints.append(copy.deepcopy(wpose))\n",
    "\n",
    "wpose.position.x += scale * 0.1  # Second move forward/backwards in (x)\n",
    "waypoints.append(copy.deepcopy(wpose))\n",
    "\n",
    "wpose.position.y -= scale * 0.1  # Third move sideways (y)\n",
    "waypoints.append(copy.deepcopy(wpose))\n",
    "\n",
    "# We want the Cartesian path to be interpolated at a resolution of 1 cm\n",
    "# which is why we will specify 0.01 as the eef_step in Cartesian\n",
    "# translation.  We will disable the jump threshold by setting it to 0.0,\n",
    "# ignoring the check for infeasible jumps in joint space, which is sufficient\n",
    "# for this tutorial.\n",
    "(plan, fraction) = move_group.compute_cartesian_path(\n",
    "                                   waypoints,   # waypoints to follow\n",
    "                                   0.01,        # eef_step\n",
    "                                   0.0)         # jump_threshold"
   ]
  },
  {
   "cell_type": "code",
   "execution_count": 19,
   "metadata": {},
   "outputs": [],
   "source": [
    "display_trajectory = moveit_msgs.msg.DisplayTrajectory()\n",
    "display_trajectory.trajectory_start = robot.get_current_state()\n",
    "display_trajectory.trajectory.append(plan)\n",
    "# Publish\n",
    "display_trajectory_publisher.publish(display_trajectory);"
   ]
  },
  {
   "cell_type": "code",
   "execution_count": 20,
   "metadata": {},
   "outputs": [
    {
     "data": {
      "text/plain": [
       "True"
      ]
     },
     "execution_count": 20,
     "metadata": {},
     "output_type": "execute_result"
    }
   ],
   "source": [
    "move_group.execute(plan, wait=True)"
   ]
  },
  {
   "cell_type": "code",
   "execution_count": null,
   "metadata": {},
   "outputs": [],
   "source": []
  }
 ],
 "metadata": {
  "kernelspec": {
   "display_name": "Python 2",
   "language": "python",
   "name": "python2"
  },
  "language_info": {
   "codemirror_mode": {
    "name": "ipython",
    "version": 2
   },
   "file_extension": ".py",
   "mimetype": "text/x-python",
   "name": "python",
   "nbconvert_exporter": "python",
   "pygments_lexer": "ipython2",
   "version": "2.7.12"
  }
 },
 "nbformat": 4,
 "nbformat_minor": 4
}
