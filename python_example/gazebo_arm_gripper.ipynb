{
 "cells": [
  {
   "cell_type": "markdown",
   "metadata": {},
   "source": [
    "## install moveit_commander\n",
    "\n",
    "```\n",
    "sudo apt-get install ros-\"DISTRO\"-moveit-commander\n",
    "pip install pyassimp\n",
    "```\n",
    "\n",
    "## reference\n",
    "\n",
    "https://ros-planning.github.io/moveit_tutorials/doc/move_group_python_interface/move_group_python_interface_tutorial.html\n",
    "\n",
    "## Before Running Moveit \n",
    "\n",
    "```\n",
    "# run gazebo\n",
    "roslaunch ur_gazebo ur5_robotiq.launch sim:=true limited:=true\n",
    "# run moveit\n",
    "roslaunch ur5_moveit_config ur5_moveit_planning_execution.launch sim:=true limited:=true\n",
    "# run rviz\n",
    "roslaunch ur5_moveit_config moveit_rviz.launch config:=true\n",
    "```\n"
   ]
  },
  {
   "cell_type": "code",
   "execution_count": 1,
   "metadata": {},
   "outputs": [],
   "source": [
    "import os\n",
    "ROS_DISTRO = os.environ['ROS_DISTRO']"
   ]
  },
  {
   "cell_type": "code",
   "execution_count": 2,
   "metadata": {},
   "outputs": [],
   "source": [
    "from __future__ import print_function\n",
    "from six.moves import input\n",
    "\n",
    "import sys\n",
    "ros_python_path = '/opt/ros/{}/lib/python2.7/dist-packages'.format(ROS_DISTRO)\n",
    "if not ros_python_path in sys.path:\n",
    "    sys.path.append(ros_python_path)\n",
    "\n",
    "import rospy\n",
    "import copy"
   ]
  },
  {
   "cell_type": "code",
   "execution_count": 3,
   "metadata": {},
   "outputs": [],
   "source": [
    "#for moveit\n",
    "from moveit_commander.conversions import pose_to_list\n",
    "from std_msgs.msg import String\n",
    "import geometry_msgs.msg\n",
    "import moveit_commander\n",
    "import moveit_msgs.msg\n",
    "from math import pi\n",
    "\n",
    "# for gripper\n",
    "from robotiq_2f_gripper_msgs.msg import CommandRobotiqGripperFeedback, CommandRobotiqGripperResult, CommandRobotiqGripperAction, CommandRobotiqGripperGoal\n",
    "from robotiq_2f_gripper_control.robotiq_2f_gripper_driver import Robotiq2FingerGripperDriver as Robotiq\n",
    "import actionlib"
   ]
  },
  {
   "cell_type": "markdown",
   "metadata": {},
   "source": [
    "## initialize moveit_commander"
   ]
  },
  {
   "cell_type": "code",
   "execution_count": 4,
   "metadata": {},
   "outputs": [],
   "source": [
    "moveit_commander.roscpp_initialize(sys.argv)\n",
    "rospy.init_node('arm_ur5_gripper_robotiq_client', anonymous=True)"
   ]
  },
  {
   "cell_type": "code",
   "execution_count": 5,
   "metadata": {},
   "outputs": [],
   "source": [
    "# Provides information such as the robot’s kinematic model and the robot’s current joint states\n",
    "robot = moveit_commander.RobotCommander()"
   ]
  },
  {
   "cell_type": "code",
   "execution_count": 6,
   "metadata": {},
   "outputs": [
    {
     "data": {
      "text/plain": [
       "'\\nprint(robot.get_group_names())\\nprint(robot.get_current_state())\\nprint(robot.get_joint_names())\\n'"
      ]
     },
     "execution_count": 6,
     "metadata": {},
     "output_type": "execute_result"
    }
   ],
   "source": [
    "'''\n",
    "print(robot.get_group_names())\n",
    "print(robot.get_current_state())\n",
    "print(robot.get_joint_names())\n",
    "'''"
   ]
  },
  {
   "cell_type": "code",
   "execution_count": 7,
   "metadata": {},
   "outputs": [],
   "source": [
    "# provides a remote interface for getting, setting, and updating the robot’s internal understanding of the surrounding world\n",
    "# 플래닝할때, 주변 장애물을 반영할 수 있게, 아래의 object를 통해 환경에 장애물을 추가할 수 있다.\n",
    "scene = moveit_commander.PlanningSceneInterface()"
   ]
  },
  {
   "cell_type": "code",
   "execution_count": 8,
   "metadata": {},
   "outputs": [],
   "source": [
    "# plan 한 trajectory를 rviz화면에 시뮬레이션해줌.\n",
    "# \"roslaunch ur5_moveit_config moveit_rviz.launch config:=true\" 을 통해 미리 rviz를 띄어놔야 함.\n",
    "display_trajectory_publisher = rospy.Publisher('/move_group/display_planned_path',\n",
    "                                               moveit_msgs.msg.DisplayTrajectory,\n",
    "                                               queue_size=20)"
   ]
  },
  {
   "cell_type": "code",
   "execution_count": 9,
   "metadata": {},
   "outputs": [],
   "source": [
    "# move_group 객체를 통해 각 joint(move_element)의 desired states를 지정할 수 있고, moveit은 이 값을 바탕으로 planning을 해줌.\n",
    "group_name = \"manipulator\"\n",
    "move_group = moveit_commander.MoveGroupCommander(group_name)"
   ]
  },
  {
   "cell_type": "code",
   "execution_count": 10,
   "metadata": {
    "scrolled": true
   },
   "outputs": [
    {
     "name": "stdout",
     "output_type": "stream",
     "text": [
      "============ Planning frame: world\n",
      "============ End effector link: ee_link\n",
      "============ Available Planning Groups: ['endeffector', 'manipulator']\n",
      "============ Printing robot state\n",
      "joint_state: \n",
      "  header: \n",
      "    seq: 0\n",
      "    stamp: \n",
      "      secs: 0\n",
      "      nsecs:         0\n",
      "    frame_id: \"world\"\n",
      "  name: \n",
      "    - shoulder_pan_joint\n",
      "    - shoulder_lift_joint\n",
      "    - elbow_joint\n",
      "    - wrist_1_joint\n",
      "    - wrist_2_joint\n",
      "    - wrist_3_joint\n",
      "    - finger_joint\n",
      "    - left_inner_finger_joint\n",
      "    - left_inner_knuckle_joint\n",
      "    - right_inner_knuckle_joint\n",
      "    - right_outer_knuckle_joint\n",
      "    - right_inner_finger_joint\n",
      "  position: [-0.017814759014429526, 0.37038988736662315, 2.468016389776178, -0.6287761067335342, 1.9685016752487456, 2.6919361917664286, 0.004274148940518252, -0.004274148940518252, 0.004274148940518252, 0.004274148940518252, 0.004274148940518252, -0.004274148940518252]\n",
      "  velocity: []\n",
      "  effort: []\n",
      "multi_dof_joint_state: \n",
      "  header: \n",
      "    seq: 0\n",
      "    stamp: \n",
      "      secs: 0\n",
      "      nsecs:         0\n",
      "    frame_id: \"world\"\n",
      "  joint_names: []\n",
      "  transforms: []\n",
      "  twist: []\n",
      "  wrench: []\n",
      "attached_collision_objects: []\n",
      "is_diff: False\n",
      "\n"
     ]
    }
   ],
   "source": [
    "# We can get the name of the reference frame for this robot:\n",
    "planning_frame = move_group.get_planning_frame()\n",
    "print(\"============ Planning frame: %s\" % planning_frame)\n",
    "\n",
    "# We can also print the name of the end-effector link for this group:\n",
    "eef_link = move_group.get_end_effector_link()\n",
    "print(\"============ End effector link: %s\" % eef_link)\n",
    "\n",
    "# We can get a list of all the groups in the robot:\n",
    "group_names = robot.get_group_names()\n",
    "print(\"============ Available Planning Groups:\", robot.get_group_names())\n",
    "\n",
    "# Sometimes for debugging it is useful to print the entire state of the\n",
    "# robot:\n",
    "print(\"============ Printing robot state\")\n",
    "print(robot.get_current_state())\n",
    "print(\"\")"
   ]
  },
  {
   "cell_type": "code",
   "execution_count": 11,
   "metadata": {},
   "outputs": [
    {
     "data": {
      "text/plain": [
       "[-0.01781289397662622,\n",
       " 0.37025260736700893,\n",
       " 2.4680922516031742,\n",
       " -0.6283789977573662,\n",
       " 1.9804679298693895,\n",
       " 2.69191043893062]"
      ]
     },
     "execution_count": 11,
     "metadata": {},
     "output_type": "execute_result"
    }
   ],
   "source": [
    "move_group.get_current_joint_values()"
   ]
  },
  {
   "cell_type": "code",
   "execution_count": 12,
   "metadata": {},
   "outputs": [],
   "source": [
    "move_group.set_max_velocity_scaling_factor = 0.001"
   ]
  },
  {
   "cell_type": "code",
   "execution_count": 13,
   "metadata": {},
   "outputs": [],
   "source": [
    "move_group.set_max_velocity_scaling_factor = 0.1\n",
    "joint_goal = move_group.get_current_joint_values()\n",
    "joint_goal[0] = 0\n",
    "joint_goal[1] = 0\n",
    "joint_goal[2] = 0\n",
    "joint_goal[3] = 0\n",
    "joint_goal[4] = 0\n",
    "joint_goal[5] = 0\n",
    "\n",
    "# The go command can be called with joint values, poses, or without any\n",
    "# parameters if you have already set the pose or joint target for the group\n",
    "move_group.go(joint_goal, wait=True)\n",
    "\n",
    "# Calling ``stop()`` ensures that there is no residual movement\n",
    "move_group.stop()"
   ]
  },
  {
   "cell_type": "code",
   "execution_count": 14,
   "metadata": {},
   "outputs": [],
   "source": [
    "move_group.set_max_velocity_scaling_factor = 0.01\n",
    "joint_goal = move_group.get_current_joint_values()\n",
    "\n",
    "joint_goal = [2.928491837446625,\n",
    " -1.3835698676261812,\n",
    " 1.716120040745281,\n",
    " -2.0037368618694433,\n",
    " -1.5245347859526337,\n",
    " 2.887431079190039]\n",
    "\n",
    "# The go command can be called with joint values, poses, or without any\n",
    "# parameters if you have already set the pose or joint target for the group\n",
    "move_group.go(joint_goal, wait=True)\n",
    "\n",
    "# Calling ``stop()`` ensures that there is no residual movement\n",
    "move_group.stop()"
   ]
  },
  {
   "cell_type": "code",
   "execution_count": 17,
   "metadata": {},
   "outputs": [],
   "source": [
    "move_group.set_max_velocity_scaling_factor = 0.01\n",
    "joint_goal = move_group.get_current_joint_values()\n",
    "'''\n",
    "joint_goal = [2.9412768042098367,\n",
    " -1.1789994888028392,\n",
    " 1.8574884240683716,\n",
    " -2.35008618243274,\n",
    " -1.5256609547041684,\n",
    " 2.900080107538237]\n",
    "'''\n",
    "joint_goal2 = [2.9582129039798524,\n",
    " -1.1426872994651491,\n",
    " 1.781375071390455,\n",
    " -2.2244975444512622,\n",
    " -1.516971398631207,\n",
    " 2.9191883264198317]\n",
    "joint_goal[1] = joint_goal2[1]\n",
    "\n",
    "move_group.go(joint_goal, wait=True)\n",
    "move_group.stop()"
   ]
  },
  {
   "cell_type": "code",
   "execution_count": 15,
   "metadata": {
    "scrolled": false
   },
   "outputs": [
    {
     "name": "stdout",
     "output_type": "stream",
     "text": [
      "command_robotiq_action\n"
     ]
    }
   ],
   "source": [
    "action_name = rospy.get_param('~action_name', 'command_robotiq_action')\n",
    "print(action_name)"
   ]
  },
  {
   "cell_type": "code",
   "execution_count": 16,
   "metadata": {},
   "outputs": [
    {
     "name": "stdout",
     "output_type": "stream",
     "text": [
      "Client test: Starting sending goals\n"
     ]
    }
   ],
   "source": [
    "robotiq_client = actionlib.SimpleActionClient(action_name, CommandRobotiqGripperAction)\n",
    "robotiq_client.wait_for_server()\n",
    "print(\"Client test: Starting sending goals\")"
   ]
  },
  {
   "cell_type": "code",
   "execution_count": 19,
   "metadata": {},
   "outputs": [
    {
     "data": {
      "text/plain": [
       "True"
      ]
     },
     "execution_count": 19,
     "metadata": {},
     "output_type": "execute_result"
    }
   ],
   "source": [
    "## Manually set all the parameters of the gripper goal state.\n",
    "######################################################################################\n",
    "\n",
    "goal = CommandRobotiqGripperGoal()\n",
    "goal.emergency_release = False\n",
    "goal.stop = False\n",
    "goal.position = 0.8\n",
    "goal.speed = 0.1\n",
    "goal.force = 1.0\n",
    "\n",
    "# Sends the goal to the gripper.\n",
    "robotiq_client.send_goal(goal)\n",
    "# Block processing thread until gripper movement is finished, comment if waiting is not necesary.\n",
    "robotiq_client.wait_for_result()"
   ]
  },
  {
   "cell_type": "code",
   "execution_count": 18,
   "metadata": {},
   "outputs": [
    {
     "data": {
      "text/plain": [
       "True"
      ]
     },
     "execution_count": 18,
     "metadata": {},
     "output_type": "execute_result"
    }
   ],
   "source": [
    "## Manually set all the parameters of the gripper goal state.\n",
    "######################################################################################\n",
    "\n",
    "goal = CommandRobotiqGripperGoal()\n",
    "goal.emergency_release = False\n",
    "goal.stop = False\n",
    "goal.position = 0.0\n",
    "goal.speed = 0.1\n",
    "goal.force = 5.0\n",
    "\n",
    "# Sends the goal to the gripper.\n",
    "robotiq_client.send_goal(goal)\n",
    "# Block processing thread until gripper movement is finished, comment if waiting is not necesary.\n",
    "robotiq_client.wait_for_result()"
   ]
  },
  {
   "cell_type": "code",
   "execution_count": 15,
   "metadata": {},
   "outputs": [
    {
     "data": {
      "text/plain": [
       "True"
      ]
     },
     "execution_count": 15,
     "metadata": {},
     "output_type": "execute_result"
    }
   ],
   "source": [
    "joint_goal = move_group.get_current_joint_values()\n",
    "joint_goal[0] = 0\n",
    "joint_goal[1] = -pi/2\n",
    "joint_goal[2] = -pi/2\n",
    "joint_goal[3] = 0\n",
    "joint_goal[4] = 0\n",
    "joint_goal[5] = 0\n",
    "\n",
    "move_group.go(joint_goal, wait=True)\n",
    "\n",
    "move_group.stop()\n",
    "\n",
    "goal = CommandRobotiqGripperGoal()\n",
    "goal.position = 0.0\n",
    "goal.speed = 1.0\n",
    "\n",
    "robotiq_client.send_goal(goal)\n",
    "robotiq_client.wait_for_result()"
   ]
  },
  {
   "cell_type": "code",
   "execution_count": 23,
   "metadata": {},
   "outputs": [
    {
     "data": {
      "text/plain": [
       "True"
      ]
     },
     "execution_count": 23,
     "metadata": {},
     "output_type": "execute_result"
    }
   ],
   "source": [
    "joint_goal = move_group.get_current_joint_values()\n",
    "joint_goal[0] = pi/2\n",
    "joint_goal[1] = -pi/2\n",
    "joint_goal[2] = -pi/2\n",
    "joint_goal[3] = 0\n",
    "joint_goal[4] = pi/2\n",
    "joint_goal[5] = 0\n",
    "\n",
    "move_group.go(joint_goal, wait=True)\n",
    "\n",
    "move_group.stop()\n",
    "\n",
    "goal = CommandRobotiqGripperGoal()\n",
    "goal.position = 0.6\n",
    "goal.speed = 1.0\n",
    "\n",
    "robotiq_client.send_goal(goal)\n",
    "robotiq_client.wait_for_result()"
   ]
  },
  {
   "cell_type": "code",
   "execution_count": null,
   "metadata": {},
   "outputs": [],
   "source": []
  }
 ],
 "metadata": {
  "kernelspec": {
   "display_name": "Python 2",
   "language": "python",
   "name": "python2"
  },
  "language_info": {
   "codemirror_mode": {
    "name": "ipython",
    "version": 2
   },
   "file_extension": ".py",
   "mimetype": "text/x-python",
   "name": "python",
   "nbconvert_exporter": "python",
   "pygments_lexer": "ipython2",
   "version": "2.7.17"
  }
 },
 "nbformat": 4,
 "nbformat_minor": 4
}
