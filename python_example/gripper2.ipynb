{
 "cells": [
  {
   "cell_type": "code",
   "execution_count": 56,
   "metadata": {},
   "outputs": [],
   "source": [
    "import sys\n",
    "import time\n",
    "import unittest\n",
    "\n",
    "import rospy\n",
    "import actionlib\n",
    "from control_msgs.msg import FollowJointTrajectoryAction, FollowJointTrajectoryGoal, FollowJointTrajectoryResult\n",
    "from ur_dashboard_msgs.msg import SetModeAction, SetModeGoal, RobotMode\n",
    "from std_srvs.srv import Trigger, TriggerRequest\n",
    "from trajectory_msgs.msg import JointTrajectoryPoint\n",
    "\n",
    "import numpy as np"
   ]
  },
  {
   "cell_type": "code",
   "execution_count": 62,
   "metadata": {},
   "outputs": [],
   "source": [
    "rospy.init_node('gripper_client')"
   ]
  },
  {
   "cell_type": "code",
   "execution_count": 3,
   "metadata": {},
   "outputs": [],
   "source": [
    "client = actionlib.SimpleActionClient(\n",
    "            '/gripper_controller/follow_joint_trajectory', FollowJointTrajectoryAction)"
   ]
  },
  {
   "cell_type": "code",
   "execution_count": 4,
   "metadata": {},
   "outputs": [],
   "source": [
    "timeout = rospy.Duration(3)"
   ]
  },
  {
   "cell_type": "code",
   "execution_count": 5,
   "metadata": {},
   "outputs": [
    {
     "data": {
      "text/plain": [
       "True"
      ]
     },
     "execution_count": 5,
     "metadata": {},
     "output_type": "execute_result"
    }
   ],
   "source": [
    "client.wait_for_server(timeout)"
   ]
  },
  {
   "cell_type": "code",
   "execution_count": 52,
   "metadata": {},
   "outputs": [
    {
     "name": "stdout",
     "output_type": "stream",
     "text": [
      "[INFO] [1606981471.710823, 507.151000]: Sending simple goal\n"
     ]
    }
   ],
   "source": [
    "goal = FollowJointTrajectoryGoal()\n",
    "\n",
    "goal.trajectory.joint_names = [\"finger_joint\"]\n",
    "position_list = [[0.0], [0.6]]\n",
    "duration_list = [1.0, 2.0]\n",
    "\n",
    "for i, position in enumerate(position_list):\n",
    "    point = JointTrajectoryPoint()\n",
    "    point.positions = position\n",
    "    point.time_from_start = rospy.Duration(duration_list[i])\n",
    "    goal.trajectory.points.append(point)\n",
    "\n",
    "rospy.loginfo(\"Sending simple goal\")"
   ]
  },
  {
   "cell_type": "code",
   "execution_count": 55,
   "metadata": {},
   "outputs": [
    {
     "data": {
      "text/plain": [
       "True"
      ]
     },
     "execution_count": 55,
     "metadata": {},
     "output_type": "execute_result"
    }
   ],
   "source": [
    "client.send_goal(goal)\n",
    "client.wait_for_result()"
   ]
  },
  {
   "cell_type": "code",
   "execution_count": 50,
   "metadata": {},
   "outputs": [
    {
     "data": {
      "text/plain": [
       "error_code: 0\n",
       "error_string: ''"
      ]
     },
     "execution_count": 50,
     "metadata": {},
     "output_type": "execute_result"
    }
   ],
   "source": [
    "client.get_result()"
   ]
  },
  {
   "cell_type": "code",
   "execution_count": null,
   "metadata": {},
   "outputs": [],
   "source": []
  }
 ],
 "metadata": {
  "kernelspec": {
   "display_name": "Python 2",
   "language": "python",
   "name": "python2"
  },
  "language_info": {
   "codemirror_mode": {
    "name": "ipython",
    "version": 2
   },
   "file_extension": ".py",
   "mimetype": "text/x-python",
   "name": "python",
   "nbconvert_exporter": "python",
   "pygments_lexer": "ipython2",
   "version": "2.7.17"
  }
 },
 "nbformat": 4,
 "nbformat_minor": 2
}
