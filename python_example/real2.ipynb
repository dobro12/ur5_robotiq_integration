{
 "cells": [
  {
   "cell_type": "code",
   "execution_count": 13,
   "metadata": {},
   "outputs": [],
   "source": [
    "import sys\n",
    "import time\n",
    "import unittest\n",
    "\n",
    "import rospy\n",
    "import actionlib\n",
    "from control_msgs.msg import FollowJointTrajectoryAction, FollowJointTrajectoryGoal, FollowJointTrajectoryResult\n",
    "from ur_dashboard_msgs.msg import SetModeAction, SetModeGoal, RobotMode\n",
    "from std_srvs.srv import Trigger, TriggerRequest\n",
    "from trajectory_msgs.msg import JointTrajectoryPoint\n",
    "\n",
    "import numpy as np"
   ]
  },
  {
   "cell_type": "code",
   "execution_count": 2,
   "metadata": {},
   "outputs": [],
   "source": [
    "PKG = 'ur_robot_driver'\n",
    "NAME = 'trajectory_test'"
   ]
  },
  {
   "cell_type": "code",
   "execution_count": 3,
   "metadata": {},
   "outputs": [],
   "source": [
    "rospy.init_node('trajectory_testing_client')"
   ]
  },
  {
   "cell_type": "code",
   "execution_count": 4,
   "metadata": {},
   "outputs": [],
   "source": [
    "client = actionlib.SimpleActionClient(\n",
    "            '/scaled_pos_joint_traj_controller/follow_joint_trajectory', FollowJointTrajectoryAction)"
   ]
  },
  {
   "cell_type": "code",
   "execution_count": 5,
   "metadata": {},
   "outputs": [],
   "source": [
    "timeout = rospy.Duration(3)"
   ]
  },
  {
   "cell_type": "code",
   "execution_count": 6,
   "metadata": {},
   "outputs": [
    {
     "data": {
      "text/plain": [
       "True"
      ]
     },
     "execution_count": 6,
     "metadata": {},
     "output_type": "execute_result"
    }
   ],
   "source": [
    "client.wait_for_server(timeout)"
   ]
  },
  {
   "cell_type": "code",
   "execution_count": 9,
   "metadata": {},
   "outputs": [],
   "source": [
    "def init_robot():\n",
    "    \"\"\"Make sure the robot is booted and ready to receive commands\"\"\"\n",
    "    mode_client = actionlib.SimpleActionClient(\n",
    "        '/ur_hardware_interface/set_mode', SetModeAction)\n",
    "    timeout = rospy.Duration(3)\n",
    "    mode_client.wait_for_server(timeout)\n",
    "    goal = SetModeGoal()\n",
    "    goal.target_robot_mode = RobotMode.RUNNING\n",
    "    goal.play_program = False # we use headless mode during tests\n",
    "\n",
    "    mode_client.send_goal(goal)\n",
    "    mode_client.wait_for_result()\n",
    "\n",
    "    print(\"[mode_client]\", mode_client.get_result().success)\n",
    "\n",
    "    #send_program_srv = rospy.ServiceProxy(\"/ur_hardware_interface/resend_robot_program\", Trigger)\n",
    "    #send_program_srv.call()\n",
    "    rospy.sleep(5)"
   ]
  },
  {
   "cell_type": "code",
   "execution_count": 10,
   "metadata": {},
   "outputs": [
    {
     "name": "stdout",
     "output_type": "stream",
     "text": [
      "('[mode_client]', True)\n"
     ]
    }
   ],
   "source": [
    "init_robot()"
   ]
  },
  {
   "cell_type": "code",
   "execution_count": 11,
   "metadata": {},
   "outputs": [],
   "source": [
    "point = JointTrajectoryPoint()"
   ]
  },
  {
   "cell_type": "code",
   "execution_count": 12,
   "metadata": {},
   "outputs": [
    {
     "data": {
      "text/plain": [
       "[]"
      ]
     },
     "execution_count": 12,
     "metadata": {},
     "output_type": "execute_result"
    }
   ],
   "source": [
    "point.positions"
   ]
  },
  {
   "cell_type": "code",
   "execution_count": 14,
   "metadata": {},
   "outputs": [
    {
     "name": "stdout",
     "output_type": "stream",
     "text": [
      "[INFO] [1606830387.943939]: Sending simple goal\n"
     ]
    }
   ],
   "source": [
    "goal = FollowJointTrajectoryGoal()\n",
    "\n",
    "goal.trajectory.joint_names = [\"elbow_joint\", \"shoulder_lift_joint\", \"shoulder_pan_joint\",\n",
    "                               \"wrist_1_joint\", \"wrist_2_joint\", \"wrist_3_joint\"]\n",
    "position_list = [[-2.53875, -2.05062 + np.pi/24, 1.47606, -0.97761, -1.58473, 0.06858]]\n",
    "duration_list = [6.0]\n",
    "\n",
    "for i, position in enumerate(position_list):\n",
    "    point = JointTrajectoryPoint()\n",
    "    point.positions = position\n",
    "    point.time_from_start = rospy.Duration(duration_list[i])\n",
    "    goal.trajectory.points.append(point)\n",
    "\n",
    "rospy.loginfo(\"Sending simple goal\")"
   ]
  },
  {
   "cell_type": "code",
   "execution_count": null,
   "metadata": {},
   "outputs": [],
   "source": [
    "client.send_goal(goal)\n",
    "client.wait_for_result()"
   ]
  },
  {
   "cell_type": "code",
   "execution_count": null,
   "metadata": {},
   "outputs": [],
   "source": []
  }
 ],
 "metadata": {
  "kernelspec": {
   "display_name": "Python 2",
   "language": "python",
   "name": "python2"
  },
  "language_info": {
   "codemirror_mode": {
    "name": "ipython",
    "version": 2
   },
   "file_extension": ".py",
   "mimetype": "text/x-python",
   "name": "python",
   "nbconvert_exporter": "python",
   "pygments_lexer": "ipython2",
   "version": "2.7.17"
  }
 },
 "nbformat": 4,
 "nbformat_minor": 2
}
