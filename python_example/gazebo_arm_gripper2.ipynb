{
 "cells": [
  {
   "cell_type": "markdown",
   "metadata": {},
   "source": [
    "## install moveit_commander\n",
    "\n",
    "```\n",
    "sudo apt-get install ros-\"DISTRO\"-moveit-commander\n",
    "pip install pyassimp\n",
    "```\n",
    "\n",
    "## reference\n",
    "\n",
    "https://ros-planning.github.io/moveit_tutorials/doc/move_group_python_interface/move_group_python_interface_tutorial.html\n",
    "\n",
    "## Before Running Moveit \n",
    "\n",
    "```\n",
    "# run gazebo\n",
    "roslaunch ur_gazebo ur5_robotiq.launch sim:=true limited:=true\n",
    "# run moveit\n",
    "roslaunch ur5_moveit_config ur5_moveit_planning_execution.launch sim:=true limited:=true\n",
    "# run rviz\n",
    "roslaunch ur5_moveit_config moveit_rviz.launch config:=true\n",
    "```\n"
   ]
  },
  {
   "cell_type": "code",
   "execution_count": 1,
   "metadata": {
    "scrolled": false
   },
   "outputs": [
    {
     "name": "stdout",
     "output_type": "stream",
     "text": [
      "============ Planning frame: world\n",
      "============ End effector link: ee_link\n",
      "============ Available Planning Groups: ['endeffector', 'manipulator']\n",
      "============ Printing robot state\n",
      "joint_state: \n",
      "  header: \n",
      "    seq: 0\n",
      "    stamp: \n",
      "      secs: 0\n",
      "      nsecs:         0\n",
      "    frame_id: \"world\"\n",
      "  name: \n",
      "    - shoulder_pan_joint\n",
      "    - shoulder_lift_joint\n",
      "    - elbow_joint\n",
      "    - wrist_1_joint\n",
      "    - wrist_2_joint\n",
      "    - wrist_3_joint\n",
      "    - finger_joint\n",
      "    - left_inner_finger_joint\n",
      "    - left_inner_knuckle_joint\n",
      "    - right_inner_knuckle_joint\n",
      "    - right_outer_knuckle_joint\n",
      "    - right_inner_finger_joint\n",
      "  position: [0.0004621523069365807, 0.00872556623279408, 0.00019296241580590845, 0.0007623052440530742, -7.819740866477076e-05, 5.757569569020404e-05, 0.0039698816160340655, -0.0039698816160340655, 0.0039698816160340655, 0.0039698816160340655, 0.0039698816160340655, -0.0039698816160340655]\n",
      "  velocity: []\n",
      "  effort: []\n",
      "multi_dof_joint_state: \n",
      "  header: \n",
      "    seq: 0\n",
      "    stamp: \n",
      "      secs: 0\n",
      "      nsecs:         0\n",
      "    frame_id: \"world\"\n",
      "  joint_names: []\n",
      "  transforms: []\n",
      "  twist: []\n",
      "  wrench: []\n",
      "attached_collision_objects: []\n",
      "is_diff: False\n",
      "\n",
      "command_robotiq_action\n",
      "Client test: Starting sending goals\n"
     ]
    },
    {
     "data": {
      "text/plain": [
       "True"
      ]
     },
     "execution_count": 1,
     "metadata": {},
     "output_type": "execute_result"
    }
   ],
   "source": [
    "from __future__ import print_function\n",
    "from six.moves import input\n",
    "\n",
    "import os\n",
    "ROS_DISTRO = os.environ['ROS_DISTRO']\n",
    "\n",
    "import sys\n",
    "ros_python_path = '/opt/ros/{}/lib/python2.7/dist-packages'.format(ROS_DISTRO)\n",
    "if not ros_python_path in sys.path:\n",
    "    sys.path.append(ros_python_path)\n",
    "\n",
    "import rospy\n",
    "import copy\n",
    "\n",
    "#for moveit\n",
    "from moveit_commander.conversions import pose_to_list\n",
    "from std_msgs.msg import String\n",
    "import geometry_msgs.msg\n",
    "import moveit_commander\n",
    "import moveit_msgs.msg\n",
    "from math import pi\n",
    "\n",
    "# for gripper\n",
    "from robotiq_2f_gripper_msgs.msg import CommandRobotiqGripperFeedback, CommandRobotiqGripperResult, CommandRobotiqGripperAction, CommandRobotiqGripperGoal\n",
    "from robotiq_2f_gripper_control.robotiq_2f_gripper_driver import Robotiq2FingerGripperDriver as Robotiq\n",
    "import actionlib\n",
    "\n",
    "moveit_commander.roscpp_initialize(sys.argv)\n",
    "rospy.init_node('arm_ur5_gripper_robotiq_client', anonymous=True)\n",
    "\n",
    "# Provides information such as the robot’s kinematic model and the robot’s current joint states\n",
    "robot = moveit_commander.RobotCommander()\n",
    "\n",
    "# provides a remote interface for getting, setting, and updating the robot’s internal understanding of the surrounding world\n",
    "# 플래닝할때, 주변 장애물을 반영할 수 있게, 아래의 object를 통해 환경에 장애물을 추가할 수 있다.\n",
    "scene = moveit_commander.PlanningSceneInterface()\n",
    "\n",
    "# plan 한 trajectory를 rviz화면에 시뮬레이션해줌.\n",
    "# \"roslaunch ur5_moveit_config moveit_rviz.launch config:=true\" 을 통해 미리 rviz를 띄어놔야 함.\n",
    "display_trajectory_publisher = rospy.Publisher('/move_group/display_planned_path',\n",
    "                                               moveit_msgs.msg.DisplayTrajectory,\n",
    "                                               queue_size=20)\n",
    "\n",
    "# move_group 객체를 통해 각 joint(move_element)의 desired states를 지정할 수 있고, moveit은 이 값을 바탕으로 planning을 해줌.\n",
    "group_name = \"manipulator\"\n",
    "move_group = moveit_commander.MoveGroupCommander(group_name)\n",
    "\n",
    "# We can get the name of the reference frame for this robot:\n",
    "planning_frame = move_group.get_planning_frame()\n",
    "print(\"============ Planning frame: %s\" % planning_frame)\n",
    "\n",
    "# We can also print the name of the end-effector link for this group:\n",
    "eef_link = move_group.get_end_effector_link()\n",
    "print(\"============ End effector link: %s\" % eef_link)\n",
    "\n",
    "# We can get a list of all the groups in the robot:\n",
    "group_names = robot.get_group_names()\n",
    "print(\"============ Available Planning Groups:\", robot.get_group_names())\n",
    "\n",
    "# Sometimes for debugging it is useful to print the entire state of the\n",
    "# robot:\n",
    "print(\"============ Printing robot state\")\n",
    "print(robot.get_current_state())\n",
    "print(\"\")\n",
    "\n",
    "joint_goal = move_group.get_current_joint_values()\n",
    "joint_goal = [2.928491837446625,\n",
    " -1.3835698676261812,\n",
    " 1.716120040745281,\n",
    " -2.0037368618694433,\n",
    " -1.5245347859526337,\n",
    " 2.887431079190039]\n",
    "move_group.go(joint_goal, wait=True)\n",
    "move_group.stop()\n",
    "\n",
    "action_name = rospy.get_param('~action_name', 'command_robotiq_action')\n",
    "print(action_name)\n",
    "robotiq_client = actionlib.SimpleActionClient(action_name, CommandRobotiqGripperAction)\n",
    "robotiq_client.wait_for_server()\n",
    "print(\"Client test: Starting sending goals\")\n",
    "\n",
    "joint_goal = move_group.get_current_joint_values()\n",
    "joint_goal = [2.9412768042098367,\n",
    " -1.1789994888028392,\n",
    " 1.8574884240683716,\n",
    " -2.35008618243274,\n",
    " -1.5256609547041684,\n",
    " 2.900080107538237]\n",
    "move_group.go(joint_goal, wait=True)\n",
    "move_group.stop()\n",
    "\n",
    "goal = CommandRobotiqGripperGoal()\n",
    "goal.emergency_release = False\n",
    "goal.stop = False\n",
    "goal.position = 0.0\n",
    "goal.speed = 0.1\n",
    "goal.force = 5.0\n",
    "robotiq_client.send_goal(goal)\n",
    "robotiq_client.wait_for_result()"
   ]
  },
  {
   "cell_type": "code",
   "execution_count": 2,
   "metadata": {},
   "outputs": [
    {
     "data": {
      "text/plain": [
       "True"
      ]
     },
     "execution_count": 2,
     "metadata": {},
     "output_type": "execute_result"
    }
   ],
   "source": [
    "goal = CommandRobotiqGripperGoal()\n",
    "goal.emergency_release = False\n",
    "goal.stop = False\n",
    "goal.position = 0.5\n",
    "goal.speed = 0.1\n",
    "goal.force = 5.0\n",
    "robotiq_client.send_goal(goal)\n",
    "robotiq_client.wait_for_result()"
   ]
  },
  {
   "cell_type": "code",
   "execution_count": 3,
   "metadata": {},
   "outputs": [
    {
     "data": {
      "text/plain": [
       "True"
      ]
     },
     "execution_count": 3,
     "metadata": {},
     "output_type": "execute_result"
    }
   ],
   "source": [
    "goal = CommandRobotiqGripperGoal()\n",
    "goal.emergency_release = False\n",
    "goal.stop = False\n",
    "goal.position = 0.0\n",
    "goal.speed = 0.1\n",
    "goal.force = 0.2\n",
    "robotiq_client.send_goal(goal)\n",
    "robotiq_client.wait_for_result()"
   ]
  },
  {
   "cell_type": "code",
   "execution_count": 5,
   "metadata": {},
   "outputs": [],
   "source": [
    "joint_goal = move_group.get_current_joint_values()\n",
    "joint_goal[0] -= 0.05\n",
    "move_group.go(joint_goal, wait=True)\n",
    "move_group.stop()"
   ]
  },
  {
   "cell_type": "code",
   "execution_count": 2,
   "metadata": {},
   "outputs": [],
   "source": [
    "joint_goal = move_group.get_current_joint_values()\n",
    "joint_goal = [2.928491837446625,\n",
    " -1.3835698676261812,\n",
    " 1.716120040745281,\n",
    " -2.0037368618694433,\n",
    " -1.5245347859526337,\n",
    " 2.887431079190039]\n",
    "move_group.go(joint_goal, wait=True)\n",
    "move_group.stop()"
   ]
  },
  {
   "cell_type": "code",
   "execution_count": 9,
   "metadata": {},
   "outputs": [],
   "source": [
    "joint_goal = move_group.get_current_joint_values()\n",
    "joint_goal = [2.9412768042098367,\n",
    " -1.1789994888028392,\n",
    " 1.8574884240683716,\n",
    " -2.35008618243274,\n",
    " -1.5256609547041684,\n",
    " 2.900080107538237]\n",
    "move_group.go(joint_goal, wait=True)\n",
    "move_group.stop()"
   ]
  },
  {
   "cell_type": "code",
   "execution_count": null,
   "metadata": {},
   "outputs": [],
   "source": []
  }
 ],
 "metadata": {
  "kernelspec": {
   "display_name": "Python 2",
   "language": "python",
   "name": "python2"
  },
  "language_info": {
   "codemirror_mode": {
    "name": "ipython",
    "version": 2
   },
   "file_extension": ".py",
   "mimetype": "text/x-python",
   "name": "python",
   "nbconvert_exporter": "python",
   "pygments_lexer": "ipython2",
   "version": "2.7.17"
  }
 },
 "nbformat": 4,
 "nbformat_minor": 4
}
