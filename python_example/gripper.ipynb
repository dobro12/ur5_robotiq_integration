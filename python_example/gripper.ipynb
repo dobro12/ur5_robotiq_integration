{
 "cells": [
  {
   "cell_type": "code",
   "execution_count": 1,
   "metadata": {},
   "outputs": [],
   "source": [
    "import rospy\n",
    "\n",
    "# Brings in the SimpleActionClient\n",
    "import actionlib\n",
    "\n",
    "from robotiq_2f_gripper_msgs.msg import CommandRobotiqGripperFeedback, CommandRobotiqGripperResult, CommandRobotiqGripperAction, CommandRobotiqGripperGoal\n",
    "from robotiq_2f_gripper_control.robotiq_2f_gripper_driver import Robotiq2FingerGripperDriver as Robotiq\n",
    "\n",
    "from __future__ import print_function"
   ]
  },
  {
   "cell_type": "code",
   "execution_count": 2,
   "metadata": {},
   "outputs": [],
   "source": [
    "rospy.init_node('gripper_test_client')"
   ]
  },
  {
   "cell_type": "code",
   "execution_count": 3,
   "metadata": {
    "scrolled": true
   },
   "outputs": [
    {
     "name": "stdout",
     "output_type": "stream",
     "text": [
      "command_robotiq_action\n"
     ]
    }
   ],
   "source": [
    "action_name = rospy.get_param('~action_name', 'command_robotiq_action')\n",
    "print(action_name)"
   ]
  },
  {
   "cell_type": "code",
   "execution_count": 4,
   "metadata": {},
   "outputs": [
    {
     "name": "stdout",
     "output_type": "stream",
     "text": [
      "Client test: Starting sending goals\n"
     ]
    }
   ],
   "source": [
    "robotiq_client = actionlib.SimpleActionClient(action_name, CommandRobotiqGripperAction)\n",
    "robotiq_client.wait_for_server()\n",
    "print(\"Client test: Starting sending goals\")"
   ]
  },
  {
   "cell_type": "code",
   "execution_count": 7,
   "metadata": {},
   "outputs": [
    {
     "data": {
      "text/plain": [
       "True"
      ]
     },
     "execution_count": 7,
     "metadata": {},
     "output_type": "execute_result"
    }
   ],
   "source": [
    "## Manually set all the parameters of the gripper goal state.\n",
    "######################################################################################\n",
    "\n",
    "goal = CommandRobotiqGripperGoal()\n",
    "goal.emergency_release = False\n",
    "goal.stop = False\n",
    "goal.position = 0.8 #0.6\n",
    "goal.speed = 1.0 #0.1\n",
    "goal.force = 10.0\n",
    "\n",
    "# Sends the goal to the gripper.\n",
    "robotiq_client.send_goal(goal)\n",
    "# Block processing thread until gripper movement is finished, comment if waiting is not necesary.\n",
    "robotiq_client.wait_for_result()"
   ]
  },
  {
   "cell_type": "code",
   "execution_count": 8,
   "metadata": {},
   "outputs": [
    {
     "data": {
      "text/plain": [
       "True"
      ]
     },
     "execution_count": 8,
     "metadata": {},
     "output_type": "execute_result"
    }
   ],
   "source": [
    "## Manually set all the parameters of the gripper goal state.\n",
    "######################################################################################\n",
    "\n",
    "goal = CommandRobotiqGripperGoal()\n",
    "goal.emergency_release = False\n",
    "goal.stop = False\n",
    "goal.position = 0.1\n",
    "goal.speed = 0.1\n",
    "goal.force = 5.0\n",
    "\n",
    "# Sends the goal to the gripper.\n",
    "robotiq_client.send_goal(goal)\n",
    "# Block processing thread until gripper movement is finished, comment if waiting is not necesary.\n",
    "robotiq_client.wait_for_result()"
   ]
  },
  {
   "cell_type": "code",
   "execution_count": 7,
   "metadata": {
    "scrolled": false
   },
   "outputs": [
    {
     "data": {
      "text/plain": [
       "header: \n",
       "  seq: 0\n",
       "  stamp: \n",
       "    secs: 0\n",
       "    nsecs:         0\n",
       "  frame_id: ''\n",
       "is_ready: False\n",
       "is_reset: False\n",
       "is_moving: False\n",
       "obj_detected: False\n",
       "fault_status: 0\n",
       "position: 0.0\n",
       "requested_position: 0.0\n",
       "current: 0.0"
      ]
     },
     "execution_count": 7,
     "metadata": {},
     "output_type": "execute_result"
    }
   ],
   "source": [
    "robotiq_client.get_result()"
   ]
  },
  {
   "cell_type": "code",
   "execution_count": null,
   "metadata": {},
   "outputs": [],
   "source": []
  }
 ],
 "metadata": {
  "kernelspec": {
   "display_name": "Python 2",
   "language": "python",
   "name": "python2"
  },
  "language_info": {
   "codemirror_mode": {
    "name": "ipython",
    "version": 2
   },
   "file_extension": ".py",
   "mimetype": "text/x-python",
   "name": "python",
   "nbconvert_exporter": "python",
   "pygments_lexer": "ipython2",
   "version": "2.7.17"
  }
 },
 "nbformat": 4,
 "nbformat_minor": 2
}
